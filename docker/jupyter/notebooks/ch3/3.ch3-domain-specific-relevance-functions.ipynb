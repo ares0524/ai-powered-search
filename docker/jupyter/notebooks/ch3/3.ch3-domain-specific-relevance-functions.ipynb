{
 "cells": [
  {
   "cell_type": "markdown",
   "metadata": {},
   "source": [
    "# [CH3] Domain-specific Relevace Functions\n",
    "\n",
    "In the last notebook, we walked through how we can easily and dynamically modify the parameters of our query-to-document similarity algorithm, including passing in functions as features which contribute to the score.\n",
    "\n",
    "In this notebook, we'll visit a few specific domains and walk through some example queries which enable domain-specific ranking.\n",
    "\n",
    "## News Search\n",
    "Let's say you are\n",
    "\n"
   ]
  },
  {
   "cell_type": "code",
   "execution_count": null,
   "metadata": {},
   "outputs": [],
   "source": []
  }
 ],
 "metadata": {
  "kernelspec": {
   "display_name": "Python 3",
   "language": "python",
   "name": "python3"
  },
  "language_info": {
   "codemirror_mode": {
    "name": "ipython",
    "version": 3
   },
   "file_extension": ".py",
   "mimetype": "text/x-python",
   "name": "python",
   "nbconvert_exporter": "python",
   "pygments_lexer": "ipython3",
   "version": "3.7.4"
  }
 },
 "nbformat": 4,
 "nbformat_minor": 2
}

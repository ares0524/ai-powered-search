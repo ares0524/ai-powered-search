{
 "cells": [
  {
   "cell_type": "markdown",
   "metadata": {},
   "source": [
    "# [CH3] Domain-specific Relevace Functions\n",
    "\n",
    "In the last notebook, we walked through how we can easily and dynamically modify the parameters of our query-to-document similarity algorithm, including passing in functions as features which contribute to the score.\n",
    "\n",
    "In this notebook, we'll visit a few specific domains and walk through some example queries which enable domain-specific ranking.\n",
    "\n",
    "## News Search\n",
    "Let's say you are\n",
    "\n"
   ]
  },
  {
   "cell_type": "code",
   "execution_count": null,
   "metadata": {},
   "outputs": [],
   "source": [
    "news = [\n",
    "    {\n",
    "        title: \"MIT researchers explore method of transferring electricity wirelessly\",\n",
    "        date: \"Sunday, November 19, 2006\",\n",
    "        article: \"Wednesday at the American Institute of Physics Industrial Physics Forum meeting in San Francisco, a group of researchers proposed new research into an old way, invented by Nikola Tesla, to transfer power wirelessly. Marin Soljacic and his MIT colleagues revived an idea which involves a source that creates a short range oscillating field. Nearby circuits that resonate at the frequency of the source absorb some of the energy. The system would operate in much the same way as the coils inside a transformer, except that the researchers believe they can develop sources that transfer energy over much longer distances than is typical in transformers. Technology based on this proposal could mean wireless gadgets such as cell phones and iPods never have to be plugged into a wall outlet. The researchers also propose that it could power micro-robots or other machines that are too small to carry their own batteries. Eventually it might enable electric transportation such as buses to recharge wirelessly through power sources near the roadway. One potential problem with the system could be its inefficiency. Soljacic's calculations show that it is at best 60% efficient.\",\n",
    "        source: \"https://en.wikinews.org/wiki/SpaceX_Falcon_Heavy_rocket_blasts_Elon_Musk%27s_personal_Tesla_into_solar_orbit\" \n",
    "    },\n",
    "    {\n",
    "        title: \"SpaceX Falcon Heavy rocket blasts Elon Musk's personal Tesla into solar orbit\",\n",
    "        date: \"\",\n",
    "        article: \"\",\n",
    "        source: \"https://en.wikinews.org/wiki/SpaceX_Crew_Dragon_capsule_docks_with_International_Space_Station\",\n",
    "       },\n",
    "    {\n",
    "        title: \"\",\n",
    "        date: \"\",\n",
    "        article: \"At 3:45 p.m. Tuesday, Eastern Time (2045 UTC), the SpaceX Falcon Heavy rocket launched from Kennedy Space Center in Florida, United States. Its cargo: a US$100,000 Tesla sportscar, the personal property of SpaceX CEO Elon Musk, which he hopes will soon be in its own orbit around the Sun. This is the most powerful rocket since the Saturn V of Project Apollo was retired in 1970. The rocket is meant to follow a course called a Hohmann transfer orbit.\\n\\n\\\"It'll be a really huge downer if it blows up,\\\" Musk told the press the day before the launch, but went on to say, \\\"If something goes wrong, hopefully it goes wrong far into the mission so we at least learn as much as possible along the way. I would consider it a win if it just clears the pad and doesn't blow the pad to smithereens. That's four million pounds of TNT equivalent so there's probably not going to be much left if that thing lets loose on the pad.\\\" The car was equipped with a fully space-suited dummy, cameras to monitor its trip into space, a copy of Douglas Adams' Hitchhiker's Guide to the Galaxy, and a radio blasting Space Oddity by David Bowie.\\n\\nThe Falcon Heavy has a total of 27 engines and stands 230 feet (70.1 m) tall. According to SpaceX, the Falcon Heavy uses three boosters, the same kind as the company's smaller cargo rockets. After the rocket exited the Earth's atmosphere, two of these boosters detached from the main body of the rocket and, in a first for space technology, were successfully guided back down to the landing pad about ten minutes after launch. The third was to have landed on a drone ship, but missed by around 100 yards (about 90 meters) and hit the ocean \\\"at around 200 miles per hour,\\\" according to Musk. The reusability of the boosters makes an enormous difference in the cost of the launch.\\n\\nEven the relatively heavy-hauling U.S. Space Shuttle program, which was closed in 2013, did not rely on rockets as powerful as those used in Project Apollo, the program in which NASA, the U.S. Government space agency, sent manned missions to the Moon in the 1960's and 70's. Most recent space projects have focused on smaller, lighter machinery, such as Scaled Composites' SpaceShipOne in 2004, which reached space after being carried part of the way by a carrier jet instead of launching from the ground. As of last week, the most powerful rocket in use was the Delta IV, operated by the United Space Alliance. It costs about US$435 million per launch, while SpaceX says the Falcon Heavy will cost US$90 million per launch.\\n\\nNASA is also working on a heavy-duty rocket, the Space Launch System, but there have been delays.\"\n",
    "        source: \"https://en.wikinews.org/wiki/SpaceX_Falcon_Heavy_rocket_blasts_Elon_Musk%27s_personal_Tesla_into_solar_orbit\"\n",
    "    \n",
    "        \n",
    "    }\n",
    "]"
   ]
  }
 ],
 "metadata": {
  "kernelspec": {
   "display_name": "Python 3",
   "language": "python",
   "name": "python3"
  },
  "language_info": {
   "codemirror_mode": {
    "name": "ipython",
    "version": 3
   },
   "file_extension": ".py",
   "mimetype": "text/x-python",
   "name": "python",
   "nbconvert_exporter": "python",
   "pygments_lexer": "ipython3",
   "version": "3.7.4"
  }
 },
 "nbformat": 4,
 "nbformat_minor": 2
}
